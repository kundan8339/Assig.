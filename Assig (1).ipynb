{
 "cells": [
  {
   "cell_type": "markdown",
   "id": "26a08e8f-303d-4d12-99cb-d9f21382ba7d",
   "metadata": {},
   "source": [
    "Q1. Write a Python function that takes in two arrays of data and calculates the F-value for a variance ratio\n",
    "test. The function should return the F-value and the corresponding p-value for the test."
   ]
  },
  {
   "cell_type": "code",
   "execution_count": 2,
   "id": "d71879c3-d5ec-4abc-ac3f-ee26fd803f5a",
   "metadata": {},
   "outputs": [],
   "source": [
    "import numpy as np\n",
    "from scipy.stats import f"
   ]
  },
  {
   "cell_type": "code",
   "execution_count": 5,
   "id": "4fd7bd65-b292-4227-b089-127b14487bca",
   "metadata": {},
   "outputs": [
    {
     "name": "stdout",
     "output_type": "stream",
     "text": [
      "F-value: 1.0\n"
     ]
    },
    {
     "ename": "NameError",
     "evalue": "name 'p_value' is not defined",
     "output_type": "error",
     "traceback": [
      "\u001b[0;31m---------------------------------------------------------------------------\u001b[0m",
      "\u001b[0;31mNameError\u001b[0m                                 Traceback (most recent call last)",
      "Cell \u001b[0;32mIn[5], line 18\u001b[0m\n\u001b[1;32m     16\u001b[0m F,P_value\u001b[38;5;241m=\u001b[39mvariance_ratio_test(data1,data2)\n\u001b[1;32m     17\u001b[0m \u001b[38;5;28mprint\u001b[39m(\u001b[38;5;124m\"\u001b[39m\u001b[38;5;124mF-value:\u001b[39m\u001b[38;5;124m\"\u001b[39m, F)\n\u001b[0;32m---> 18\u001b[0m \u001b[38;5;28mprint\u001b[39m(\u001b[38;5;124m\"\u001b[39m\u001b[38;5;124mp-value:\u001b[39m\u001b[38;5;124m\"\u001b[39m, \u001b[43mp_value\u001b[49m)\n",
      "\u001b[0;31mNameError\u001b[0m: name 'p_value' is not defined"
     ]
    }
   ],
   "source": [
    "def variance_ratio_test(data1,data2):\n",
    "    var1 = np.var(data1,ddof=1)\n",
    "    var2 = np.var(data2,ddof=1)\n",
    "    F=var1/var2 if var1>var2 else var2/var1\n",
    "    df1=len(data1)-1\n",
    "    df2=len(data2)-1\n",
    "    if var1>var2:\n",
    "        p_value=1-f.cdf(F,df1,df2)\n",
    "    else:\n",
    "        p_value=1-f.cdf(F,df2,df1)\n",
    "        \n",
    "    return F, p_value\n",
    "\n",
    "data1=[10,12,14,16,18]\n",
    "data2=[11,13,15,17,19]\n",
    "F,P_value=variance_ratio_test(data1,data2)\n",
    "print(\"F-value:\", F)\n",
    "print(\"p-value:\", p_value)"
   ]
  },
  {
   "cell_type": "code",
   "execution_count": null,
   "id": "462d20b5-6156-41fe-b589-5c169599f379",
   "metadata": {},
   "outputs": [],
   "source": [
    "Q2. Given a significance level of 0.05 and the degrees of freedom for the numerator and denominator of an\n",
    "F-distribution, write a Python function that returns the critical F-value for a two-tailed test."
   ]
  },
  {
   "cell_type": "code",
   "execution_count": 3,
   "id": "e0282da3-0618-49f4-b1a4-394fef9b7e62",
   "metadata": {},
   "outputs": [],
   "source": [
    "from scipy.stats import f"
   ]
  },
  {
   "cell_type": "code",
   "execution_count": 5,
   "id": "9330f5be-40ce-42bb-b561-ccfe09b87ac2",
   "metadata": {},
   "outputs": [
    {
     "name": "stdout",
     "output_type": "stream",
     "text": [
      "Lower critcal F-value:0.15107670102998205\n",
      "Upper Critical F-value:4.236085668188633\n"
     ]
    }
   ],
   "source": [
    "def critical_f_value(alpha, dfn, dfd):\n",
    "    alpha_half = alpha/2\n",
    "\n",
    "    f_lower = f.ppf(alpha_half,dfn,dfd)\n",
    "    f_upper = f.ppf(1 - alpha_half,dfn,dfd)\n",
    "    \n",
    "    return f_lower, f_upper\n",
    "\n",
    "alpha=0.05\n",
    "dfn=5\n",
    "dfd=10\n",
    "lower_critical_f,upper_critical_f=critical_f_value(alpha,dfn,dfd)\n",
    "print(f\"Lower critcal F-value:{lower_critical_f}\")\n",
    "print(f\"Upper Critical F-value:{upper_critical_f}\")"
   ]
  },
  {
   "cell_type": "code",
   "execution_count": null,
   "id": "cb63dfbb-b02b-4503-b39e-578533b92bbf",
   "metadata": {},
   "outputs": [],
   "source": [
    "Q3. Write a Python program that generates random samples from two normal distributions with known\n",
    "\n",
    "variances and uses an F-test to determine if the variances are equal. The program should output the F-\n",
    "value, degrees of freedom, and p-value for the test."
   ]
  },
  {
   "cell_type": "code",
   "execution_count": 6,
   "id": "bbf70556-3504-4747-8d3b-6f340a1c0c39",
   "metadata": {},
   "outputs": [],
   "source": [
    "import numpy as np\n",
    "import scipy.stats as stats"
   ]
  },
  {
   "cell_type": "code",
   "execution_count": 9,
   "id": "7c88ea4c-74be-40e9-8f17-36ccc38ab894",
   "metadata": {},
   "outputs": [
    {
     "ename": "NameError",
     "evalue": "name 'mu1' is not defined",
     "output_type": "error",
     "traceback": [
      "\u001b[0;31m---------------------------------------------------------------------------\u001b[0m",
      "\u001b[0;31mNameError\u001b[0m                                 Traceback (most recent call last)",
      "Cell \u001b[0;32mIn[9], line 4\u001b[0m\n\u001b[1;32m      2\u001b[0m num2,sigma2,n2\u001b[38;5;241m=\u001b[39m\u001b[38;5;241m0\u001b[39m,\u001b[38;5;241m3\u001b[39m,\u001b[38;5;241m100\u001b[39m\n\u001b[1;32m      3\u001b[0m np\u001b[38;5;241m.\u001b[39mrandom\u001b[38;5;241m.\u001b[39mseed(\u001b[38;5;241m42\u001b[39m)\n\u001b[0;32m----> 4\u001b[0m sample1 \u001b[38;5;241m=\u001b[39m np\u001b[38;5;241m.\u001b[39mrandom\u001b[38;5;241m.\u001b[39mnormal(\u001b[43mmu1\u001b[49m,sigma1,n1)\n\u001b[1;32m      5\u001b[0m sample2 \u001b[38;5;241m=\u001b[39m np\u001b[38;5;241m.\u001b[39mrandom\u001b[38;5;241m.\u001b[39mnormal(mu2,sigma2,n2)\n\u001b[1;32m      7\u001b[0m var1\u001b[38;5;241m=\u001b[39mnp\u001b[38;5;241m.\u001b[39mvar(sample1,ddof\u001b[38;5;241m=\u001b[39m\u001b[38;5;241m1\u001b[39m)\n",
      "\u001b[0;31mNameError\u001b[0m: name 'mu1' is not defined"
     ]
    }
   ],
   "source": [
    "num1,sigm1,n1=0,2,100\n",
    "num2,sigma2,n2=0,3,100\n",
    "np.random.seed(42)\n",
    "sample1 = np.random.normal(mu1,sigma1,n1)\n",
    "sample2 = np.random.normal(mu2,sigma2,n2)\n",
    "\n",
    "var1=np.var(sample1,ddof=1)\n",
    "var2=np.var(sample2,ddof=1)\n",
    "\n",
    "F=var1/var2\n",
    "df1=n1-1\n",
    "df2=n2-1\n",
    "p_value=min(p_value,1 - p_value)*2\n",
    "\n",
    "print(f\"F-value:{F}\")\n",
    "print(f\"Degrees of freedom 1:{df1}\")\n",
    "print(f\"Degrees of freedom 2:{df2}\")\n",
    "print(f\"P-value:{p_value}\")\n"
   ]
  },
  {
   "cell_type": "code",
   "execution_count": null,
   "id": "0b8bf59a-3f7f-4b96-a76d-e7e3aedfe9ef",
   "metadata": {},
   "outputs": [],
   "source": [
    "Q4.The variances of two populations are known to be 10 and 15. A sample of 12 observations is taken from\n",
    "each population. Conduct an F-test at the 5% significance level to determine if the variances are\n",
    "significantly different."
   ]
  },
  {
   "cell_type": "markdown",
   "id": "b14d3ca5-e247-4a91-a52e-721e1dca56f9",
   "metadata": {},
   "source": [
    "calculate the F-statistic:\n",
    "F=s1^2/s2^2\n",
    "s1^2=15\n",
    "s2^2=10\n",
    "F=15/10=1.5\n",
    "df1=n1-1=12-1=11\n",
    "df2=n2-1=12-1=11\n",
    "a=5%\n",
    "significance=0.05\n",
    "F0.025,11,11=1/3.19=0.313\n",
    "F0.97511,11=3.19"
   ]
  },
  {
   "cell_type": "code",
   "execution_count": null,
   "id": "bd3486be-d0bd-49b8-bc60-43a0c371288b",
   "metadata": {},
   "outputs": [],
   "source": [
    "Q5. A manufacturer claims that the variance of the diameter of a certain product is 0.005. A sample of 25\n",
    "products is taken, and the sample variance is found to be 0.006. Conduct an F-test at the 1% significance\n",
    "level to determine if the claim is justified."
   ]
  },
  {
   "cell_type": "code",
   "execution_count": null,
   "id": "6ad5bb60-8c94-4795-8c31-fc6867dfa63f",
   "metadata": {},
   "outputs": [],
   "source": [
    "F=0.006/0.005=1.2\n",
    "find critical values for a two tailed test at 1% n-1=24\n",
    "F0.005,24=0.391\n",
    "F0.995,24=2.961"
   ]
  },
  {
   "cell_type": "code",
   "execution_count": null,
   "id": "332489b8-4e14-4470-9ab1-8002800f323c",
   "metadata": {},
   "outputs": [],
   "source": [
    "Q6. Write a Python function that takes in the degrees of freedom for the numerator and denominator of an\n",
    "F-distribution and calculates the mean and variance of the distribution. The function should return the\n",
    "mean and variance as a tuple."
   ]
  },
  {
   "cell_type": "code",
   "execution_count": 1,
   "id": "654f47a7-8ada-4de0-a371-e6bc9717673c",
   "metadata": {},
   "outputs": [
    {
     "name": "stdout",
     "output_type": "stream",
     "text": [
      "Mean:1.25,Variance:1.3541666666666667\n"
     ]
    }
   ],
   "source": [
    "def f_distribution_mean_variance(d1,d2):\n",
    "    \"\"\"\n",
    "    Calculates the mean and variance of an F-distribution\n",
    "    \n",
    "    Parameters:\n",
    "    d1 (int): Degrees of freedom for the numerator.\n",
    "    d2 (int): Degrees of freedom for the denominator.\n",
    "    \n",
    "    Returns:\n",
    "    tuple: A tuple containing the mean and variance of the F-distribution.\n",
    "    \"\"\"\n",
    "    if d2<=2:\n",
    "        raise ValueError(\"Variance is not defined for d2 <= 2\")\n",
    "    mean = d2 / (d2-2) if d2>2 else float('inf')\n",
    "    \n",
    "    if d2 > 4:\n",
    "        variance = (2*(d2**2) * (d1+d2-2))/(d1*(d2-2)**2 *(d2-4))\n",
    "    else:\n",
    "        variance = float('inf')\n",
    "        \n",
    "    return mean, variance\n",
    "d1=5\n",
    "d2=10\n",
    "mean, variance=f_distribution_mean_variance(d1,d2)\n",
    "print(f\"Mean:{mean},Variance:{variance}\")\n",
    "                                          \n",
    "        "
   ]
  },
  {
   "cell_type": "code",
   "execution_count": null,
   "id": "2b8992af-02af-4bbf-81e8-6b2379e38251",
   "metadata": {},
   "outputs": [],
   "source": [
    "Q7. A random sample of 10 measurements is taken from a normal population with unknown variance. The\n",
    "sample variance is found to be 25. Another random sample of 15 measurements is taken from another\n",
    "normal population with unknown variance, and the sample variance is found to be 20. Conduct an F-test\n",
    "at the 10% significance level to determine if the variances are significantly different."
   ]
  },
  {
   "cell_type": "code",
   "execution_count": 1,
   "id": "0c126dc4-02b9-4613-80a7-b215fc44fee4",
   "metadata": {},
   "outputs": [],
   "source": [
    "import scipy.stats as stats\n"
   ]
  },
  {
   "cell_type": "code",
   "execution_count": 2,
   "id": "63fa02cd-4fbd-4504-a99b-df7cb1dd24c1",
   "metadata": {},
   "outputs": [
    {
     "data": {
      "text/plain": [
       "(2.6457907352338195, 3.0254727242822095)"
      ]
     },
     "execution_count": 2,
     "metadata": {},
     "output_type": "execute_result"
    }
   ],
   "source": [
    "dfn=9\n",
    "dfd=14\n",
    "alpha=0.10\n",
    "F_critical_upper=stats.f.ppf(1-alpha/2,dfn,dfd)\n",
    "F_critical_lower=stats.f.ppf(1-alpha/2,dfd,dfn)\n",
    "F_critical_upper,F_critical_lower"
   ]
  },
  {
   "cell_type": "code",
   "execution_count": null,
   "id": "1c8edbea-6fdb-47f5-a349-4dbca42e8c11",
   "metadata": {},
   "outputs": [],
   "source": [
    "Q8. The following data represent the waiting times in minutes at two different restaurants on a Saturday\n",
    "night: Restaurant A: 24, 25, 28, 23, 22, 20, 27; Restaurant B: 31, 33, 35, 30, 32, 36. Conduct an F-test at the 5%\n",
    "significance level to determine if the variances are significantly different."
   ]
  },
  {
   "cell_type": "code",
   "execution_count": 3,
   "id": "ad96361e-28df-4098-9f92-54778278a74f",
   "metadata": {},
   "outputs": [],
   "source": [
    "import numpy as np"
   ]
  },
  {
   "cell_type": "code",
   "execution_count": 4,
   "id": "6310e8d0-c6ed-402c-8f29-c3729dc114ce",
   "metadata": {},
   "outputs": [
    {
     "data": {
      "text/plain": [
       "(7.80952380952381, 5.366666666666667)"
      ]
     },
     "execution_count": 4,
     "metadata": {},
     "output_type": "execute_result"
    }
   ],
   "source": [
    "restaurant_A=[24,25,28,23,22,20,27]\n",
    "restaurant_B=[31,33,35,30,32,36]\n",
    "\n",
    "variance_A = np.var(restaurant_A,ddof=1)\n",
    "variance_B=np.var(restaurant_B,ddof=1)\n",
    "\n",
    "variance_A, variance_B"
   ]
  },
  {
   "cell_type": "code",
   "execution_count": null,
   "id": "51c2a0d3-f334-469c-9668-b5ecc1045169",
   "metadata": {},
   "outputs": [],
   "source": [
    "Q9. The following data represent the test scores of two groups of students: Group A: 80, 85, 90, 92, 87, 83;\n",
    "Group B: 75, 78, 82, 79, 81, 84. Conduct an F-test at the 1% significance level to determine if the variances\n",
    "are significantly different."
   ]
  },
  {
   "cell_type": "code",
   "execution_count": null,
   "id": "1ddd8ecf-daef-4ae2-b0b1-55161f8ea31f",
   "metadata": {},
   "outputs": [],
   "source": [
    "group_A =[80,85,90,92,87,83]\n",
    "group_B=[75,78,82,79,81,84]\n",
    "\n",
    "variance_A_group = np.var(group_A, ddof=1)\n",
    "variance_B_group = np.var(group_B, ddof=1)\n"
   ]
  },
  {
   "cell_type": "code",
   "execution_count": null,
   "id": "994b97cc-9ed9-4486-91ef-c5288dce348b",
   "metadata": {},
   "outputs": [],
   "source": []
  },
  {
   "cell_type": "code",
   "execution_count": null,
   "id": "aa1aa61e-6d1e-49bc-bc23-9d6d6dae4943",
   "metadata": {},
   "outputs": [],
   "source": []
  },
  {
   "cell_type": "code",
   "execution_count": null,
   "id": "ab42ac5c-81e0-4dc4-a6aa-60d4b3dc53c5",
   "metadata": {},
   "outputs": [],
   "source": []
  },
  {
   "cell_type": "code",
   "execution_count": null,
   "id": "d2d9db15-cd83-427f-8077-5e9e7f14b7d2",
   "metadata": {},
   "outputs": [],
   "source": []
  },
  {
   "cell_type": "code",
   "execution_count": null,
   "id": "f173eedc-3f5f-44cb-9539-2c14d56454f8",
   "metadata": {},
   "outputs": [],
   "source": []
  },
  {
   "cell_type": "code",
   "execution_count": null,
   "id": "d7044ae2-c965-44d6-8267-127e37145734",
   "metadata": {},
   "outputs": [],
   "source": []
  },
  {
   "cell_type": "code",
   "execution_count": null,
   "id": "ae5a9ca8-8583-47f8-89af-9d5fac87a326",
   "metadata": {},
   "outputs": [],
   "source": []
  },
  {
   "cell_type": "code",
   "execution_count": null,
   "id": "644408ed-1382-4e39-aafb-7c9f4af96914",
   "metadata": {},
   "outputs": [],
   "source": []
  },
  {
   "cell_type": "code",
   "execution_count": null,
   "id": "9c9872e9-05b7-4089-843c-bee848641449",
   "metadata": {},
   "outputs": [],
   "source": []
  },
  {
   "cell_type": "code",
   "execution_count": null,
   "id": "fb102d6b-e795-4b2f-a452-ee8ed36aa8b4",
   "metadata": {},
   "outputs": [],
   "source": []
  },
  {
   "cell_type": "code",
   "execution_count": null,
   "id": "cd43a233-0883-49f3-9de6-76dbaa28e948",
   "metadata": {},
   "outputs": [],
   "source": []
  },
  {
   "cell_type": "code",
   "execution_count": null,
   "id": "c3e91baf-cb98-4291-bb48-96eba9b5b7a5",
   "metadata": {},
   "outputs": [],
   "source": []
  },
  {
   "cell_type": "code",
   "execution_count": null,
   "id": "2be5b0f3-4fe2-4292-89c5-d33b8f3cea08",
   "metadata": {},
   "outputs": [],
   "source": []
  },
  {
   "cell_type": "code",
   "execution_count": null,
   "id": "9ccf412c-62fa-459b-95c3-6e34249e0d88",
   "metadata": {},
   "outputs": [],
   "source": []
  },
  {
   "cell_type": "code",
   "execution_count": null,
   "id": "a562f472-20cb-4b0f-8e46-e2f47367ca29",
   "metadata": {},
   "outputs": [],
   "source": []
  },
  {
   "cell_type": "code",
   "execution_count": null,
   "id": "196d150c-4039-4aad-8024-b9cc5e6b17b7",
   "metadata": {},
   "outputs": [],
   "source": []
  },
  {
   "cell_type": "code",
   "execution_count": null,
   "id": "ff4feb5c-e458-41b0-91f1-bd32f4fc5fcd",
   "metadata": {},
   "outputs": [],
   "source": []
  },
  {
   "cell_type": "code",
   "execution_count": null,
   "id": "27c42124-d82e-4d4c-9556-aa6109edae98",
   "metadata": {},
   "outputs": [],
   "source": []
  },
  {
   "cell_type": "code",
   "execution_count": null,
   "id": "09aa8e99-2ba7-4299-b88c-fe09ca38fe82",
   "metadata": {},
   "outputs": [],
   "source": []
  }
 ],
 "metadata": {
  "kernelspec": {
   "display_name": "Python 3 (ipykernel)",
   "language": "python",
   "name": "python3"
  },
  "language_info": {
   "codemirror_mode": {
    "name": "ipython",
    "version": 3
   },
   "file_extension": ".py",
   "mimetype": "text/x-python",
   "name": "python",
   "nbconvert_exporter": "python",
   "pygments_lexer": "ipython3",
   "version": "3.10.8"
  }
 },
 "nbformat": 4,
 "nbformat_minor": 5
}
